{
 "cells": [
  {
   "cell_type": "code",
   "execution_count": 1,
   "metadata": {
    "scrolled": true
   },
   "outputs": [],
   "source": [
    "from pylab import *\n",
    "from skimage import img_as_float\n",
    "from skimage.color import rgb2gray\n",
    "from skimage.morphology import disk, dilation, erosion\n",
    "from skimage.exposure import equalize_adapthist\n",
    "\n",
    "from sklearn.model_selection import train_test_split\n",
    "from sklearn.neighbors import KNeighborsClassifier\n",
    "from sklearn import metrics\n",
    "\n",
    "from scipy.stats import moment"
   ]
  },
  {
   "cell_type": "markdown",
   "metadata": {},
   "source": [
    "## Wstępne przetworzenie obrazu"
   ]
  },
  {
   "cell_type": "code",
   "execution_count": 2,
   "metadata": {},
   "outputs": [],
   "source": [
    "def image_preprocessing(image):\n",
    "    image = img_as_float(plt.imread(image))\n",
    "\n",
    "    mask = rgb2gray(image)\n",
    "    mask[mask > 0.15] = 1\n",
    "    mask[mask <= 0.15] = 0\n",
    "    mask = -mask\n",
    "    mask = erosion(mask, disk(1))\n",
    "    mask = dilation(mask, disk(5))\n",
    "    mask = erosion(mask, disk(2))\n",
    "\n",
    "    image = image[:,:,1]\n",
    "    image = equalize_adapthist(image, clip_limit=0.02)\n",
    "    \n",
    "    image[mask == 0] = 0\n",
    "    \n",
    "    return image"
   ]
  },
  {
   "cell_type": "markdown",
   "metadata": {},
   "source": [
    "## Wczytanie danych"
   ]
  },
  {
   "cell_type": "code",
   "execution_count": 3,
   "metadata": {},
   "outputs": [],
   "source": [
    "folder = 'pictures/'\n",
    "images = ['im0001', 'im0002', 'im0003', 'im0004', 'im0005', 'im0044', 'im0077', 'im0081',\n",
    "          'im0082', 'im0139', 'im0162', 'im0163', 'im0235', 'im0236', 'im0239', 'im0240',\n",
    "          'im0255', 'im0291', 'im0319', 'im0324']\n",
    "in_img = '.ppm'\n",
    "out_img = '.ah.ppm'"
   ]
  },
  {
   "cell_type": "code",
   "execution_count": 4,
   "metadata": {},
   "outputs": [],
   "source": [
    "# image_data = []\n",
    "# image_target = []\n",
    "\n",
    "# for img in images:\n",
    "#     image_data += [image_preprocessing(folder + img + in_img)]\n",
    "#     image_target += [img_as_float(plt.imread(folder + img + out_img))]\n",
    "\n",
    "# na razie biorę pod uwagę jeden obraz, na którym się uczę:\n",
    "image_data = image_preprocessing(\"pictures/im0077.ppm\")\n",
    "image_target = img_as_float(plt.imread(\"pictures/im0077.ah.ppm\"))"
   ]
  },
  {
   "cell_type": "markdown",
   "metadata": {},
   "source": [
    "## Ekstrakcja cech z obrazu"
   ]
  },
  {
   "cell_type": "code",
   "execution_count": 5,
   "metadata": {},
   "outputs": [],
   "source": [
    "def features_create(img_data):\n",
    "    x, y = image_data.shape\n",
    "    variance = []\n",
    "    central_moment_3 = []\n",
    "    central_moment_4 = []\n",
    "    for i in range(x // 5):\n",
    "        for j in range(y // 5):\n",
    "            img_data = image_data[5*i : 5*(i+1), 5*j : 5*(j+1)].flatten()\n",
    "            variance += [moment(img_data, moment = 2)]\n",
    "            central_moment_3 += [moment(img_data, moment = 3)]\n",
    "            central_moment_4 += [moment(img_data, moment = 4)]\n",
    "    return list(zip(variance, central_moment_3, central_moment_4))\n",
    "            \n",
    "def label_create(img_target):\n",
    "    x, y = img_target.shape\n",
    "    target = []\n",
    "    for i in range(x // 5):\n",
    "        for j in range(y // 5):\n",
    "            img_target = image_target[5*i : 5*(i+1), 5*j : 5*(j+1)]\n",
    "            target += [img_target[2,2]]\n",
    "    return target"
   ]
  },
  {
   "cell_type": "markdown",
   "metadata": {},
   "source": [
    "## Klasyfikator"
   ]
  },
  {
   "cell_type": "code",
   "execution_count": 6,
   "metadata": {},
   "outputs": [
    {
     "data": {
      "text/plain": [
       "<matplotlib.image.AxesImage at 0x7fb994aaebe0>"
      ]
     },
     "execution_count": 6,
     "metadata": {},
     "output_type": "execute_result"
    },
    {
     "data": {
      "image/png": "[encoded data removed]",
      "text/plain": [
       "<Figure size 720x720 with 1 Axes>"
      ]
     },
     "metadata": {
      "needs_background": "light"
     },
     "output_type": "display_data"
    }
   ],
   "source": [
    "features = features_create(image_data)\n",
    "label = label_create(image_target)\n",
    "\n",
    "pct = features_create(image_preprocessing(\"pictures/im0001.ppm\"))\n",
    "\n",
    "model = KNeighborsClassifier(n_neighbors=15)\n",
    "model.fit(features,label)\n",
    "predicted = model.predict(pct)\n",
    "\n",
    "x, y = image_data.shape\n",
    "predicted = np.array_split(predicted, x//5)\n",
    "\n",
    "plt.figure(figsize=(10, 10))\n",
    "plt.imshow(predicted, cmap=plt.cm.gray)"
   ]
  }
 ],
 "metadata": {
  "kernelspec": {
   "display_name": "Python 3",
   "language": "python",
   "name": "python3"
  },
  "language_info": {
   "codemirror_mode": {
    "name": "ipython",
    "version": 3
   },
   "file_extension": ".py",
   "mimetype": "text/x-python",
   "name": "python",
   "nbconvert_exporter": "python",
   "pygments_lexer": "ipython3",
   "version": "3.6.8"
  }
 },
 "nbformat": 4,
 "nbformat_minor": 2
}
